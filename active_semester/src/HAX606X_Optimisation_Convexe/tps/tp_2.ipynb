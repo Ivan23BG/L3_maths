{
 "cells": [
  {
   "cell_type": "markdown",
   "metadata": {},
   "source": [
    "Introduction aux méthodes de gradient"
   ]
  },
  {
   "cell_type": "markdown",
   "metadata": {},
   "source": [
    "Méthodes d'optimisation pour des fonctions quadratiques"
   ]
  },
  {
   "cell_type": "code",
   "execution_count": 1,
   "metadata": {},
   "outputs": [],
   "source": [
    "# Import libraries\n",
    "import numpy as np\n",
    "import matplotlib.pyplot as plt"
   ]
  },
  {
   "cell_type": "code",
   "execution_count": 3,
   "metadata": {},
   "outputs": [
    {
     "name": "stdout",
     "output_type": "stream",
     "text": [
      "A_1 = \n",
      "[[4]]\n",
      "b_1 = \n",
      "[[1.]]\n",
      "\n",
      "A_2 = \n",
      "[[ 4 -2]\n",
      " [-2  4]]\n",
      "b_2 = \n",
      "[[1.]\n",
      " [1.]]\n",
      "\n",
      "A_3 = \n",
      "[[ 4 -2  0]\n",
      " [-2  4 -2]\n",
      " [ 0 -2  4]]\n",
      "b_3 = \n",
      "[[1.]\n",
      " [1.]\n",
      " [1.]]\n",
      "\n",
      "A_4 = \n",
      "[[ 4. -2.  0.  0.]\n",
      " [-2.  4. -2.  0.]\n",
      " [ 0. -2.  4. -2.]\n",
      " [ 0.  0. -2.  4.]]\n",
      "b_4 = \n",
      "[[1.]\n",
      " [1.]\n",
      " [1.]\n",
      " [1.]]\n",
      "\n"
     ]
    }
   ],
   "source": [
    "# Define the variables\n",
    "n = 2\n",
    "\n",
    "def A_n(n):\n",
    "    if n == 0:\n",
    "        return None\n",
    "    elif n == 1:\n",
    "        return np.array([[4]])\n",
    "    elif n == 2:\n",
    "        return np.array([[4, -2], [-2, 4]])\n",
    "    elif n == 3:\n",
    "        return np.array([[4, -2, 0], [-2, 4, -2], [0, -2, 4]])\n",
    "    else:\n",
    "        result = np.zeros((n, n))\n",
    "        for i in range(n):\n",
    "            for j in range(n):\n",
    "                if i == j:\n",
    "                    result[i, j] = 4\n",
    "                elif i == j - 1 or i == j + 1:\n",
    "                    result[i, j] = -2\n",
    "        return result\n",
    "\n",
    "\n",
    "def b_n(n):\n",
    "    return np.ones((n, 1))\n",
    "\n",
    "\n",
    "# Test the function\n",
    "for n in range(1, 5):\n",
    "    print(f\"A_{n} = \")\n",
    "    print(A_n(n))\n",
    "    print(f\"b_{n} = \")\n",
    "    print(b_n(n))\n",
    "    print()\n",
    "    \n",
    "n = 2"
   ]
  },
  {
   "cell_type": "code",
   "execution_count": 9,
   "metadata": {},
   "outputs": [
    {
     "ename": "ValueError",
     "evalue": "shapes (2,1) and (2,1) not aligned: 1 (dim 1) != 2 (dim 0)",
     "output_type": "error",
     "traceback": [
      "\u001b[1;31m---------------------------------------------------------------------------\u001b[0m",
      "\u001b[1;31mValueError\u001b[0m                                Traceback (most recent call last)",
      "Cell \u001b[1;32mIn[9], line 14\u001b[0m\n\u001b[0;32m     12\u001b[0m \u001b[38;5;66;03m# Test the functions\u001b[39;00m\n\u001b[0;32m     13\u001b[0m x \u001b[38;5;241m=\u001b[39m np\u001b[38;5;241m.\u001b[39marray([[\u001b[38;5;241m1\u001b[39m], [\u001b[38;5;241m1\u001b[39m]])\n\u001b[1;32m---> 14\u001b[0m \u001b[38;5;28mprint\u001b[39m(\u001b[38;5;124mf\u001b[39m\u001b[38;5;124m\"\u001b[39m\u001b[38;5;124mJ_\u001b[39m\u001b[38;5;132;01m{\u001b[39;00mn\u001b[38;5;132;01m}\u001b[39;00m\u001b[38;5;124m = \u001b[39m\u001b[38;5;132;01m{\u001b[39;00m\u001b[43mJ_n\u001b[49m\u001b[43m(\u001b[49m\u001b[43mx\u001b[49m\u001b[43m,\u001b[49m\u001b[38;5;250;43m \u001b[39;49m\u001b[43mn\u001b[49m\u001b[43m)\u001b[49m\u001b[38;5;132;01m}\u001b[39;00m\u001b[38;5;124m\"\u001b[39m)\n\u001b[0;32m     15\u001b[0m \u001b[38;5;28mprint\u001b[39m(\u001b[38;5;124mf\u001b[39m\u001b[38;5;124m\"\u001b[39m\u001b[38;5;124mgrad_J_\u001b[39m\u001b[38;5;132;01m{\u001b[39;00mn\u001b[38;5;132;01m}\u001b[39;00m\u001b[38;5;124m = \u001b[39m\u001b[38;5;132;01m{\u001b[39;00mgrad_J_n(x,\u001b[38;5;250m \u001b[39mn)\u001b[38;5;132;01m}\u001b[39;00m\u001b[38;5;124m\"\u001b[39m)\n",
      "Cell \u001b[1;32mIn[9], line 4\u001b[0m, in \u001b[0;36mJ_n\u001b[1;34m(x, n)\u001b[0m\n\u001b[0;32m      3\u001b[0m \u001b[38;5;28;01mdef\u001b[39;00m \u001b[38;5;21mJ_n\u001b[39m(x, n):\n\u001b[1;32m----> 4\u001b[0m     \u001b[38;5;28;01mreturn\u001b[39;00m \u001b[38;5;241m0.5\u001b[39m \u001b[38;5;241m*\u001b[39m \u001b[43mnp\u001b[49m\u001b[38;5;241;43m.\u001b[39;49m\u001b[43mdot\u001b[49m\u001b[43m(\u001b[49m\u001b[43mA_n\u001b[49m\u001b[43m(\u001b[49m\u001b[43mn\u001b[49m\u001b[43m)\u001b[49m\u001b[43m \u001b[49m\u001b[38;5;241;43m@\u001b[39;49m\u001b[43m \u001b[49m\u001b[43mx\u001b[49m\u001b[43m,\u001b[49m\u001b[43m \u001b[49m\u001b[43mx\u001b[49m\u001b[43m)\u001b[49m \u001b[38;5;241m-\u001b[39m np\u001b[38;5;241m.\u001b[39mdot(b_n(n)\u001b[38;5;241m.\u001b[39mT, x)\u001b[38;5;241m.\u001b[39mT\n",
      "File \u001b[1;32m<__array_function__ internals>:180\u001b[0m, in \u001b[0;36mdot\u001b[1;34m(*args, **kwargs)\u001b[0m\n",
      "\u001b[1;31mValueError\u001b[0m: shapes (2,1) and (2,1) not aligned: 1 (dim 1) != 2 (dim 0)"
     ]
    }
   ],
   "source": [
    "# Now we define J_n and its gradient\n",
    "\n",
    "def J_n(x, n):\n",
    "    return 0.5 * np.dot(A_n(n) @ x, x) - np.dot(b_n(n).T, x).T\n",
    "\n",
    "def grad_J_n(x, n):\n",
    "    return A_n(n) @ x - b_n(n)\n",
    "\n",
    "def grad_2_J_n(x, n):\n",
    "    return A_n(n)\n",
    "\n",
    "# Test the functions\n",
    "x = np.array([[1], [1]])\n",
    "print(f\"J_{n} = {J_n(x, n)}\")\n",
    "print(f\"grad_J_{n} = {grad_J_n(x, n)}\")"
   ]
  },
  {
   "cell_type": "code",
   "execution_count": null,
   "metadata": {},
   "outputs": [],
   "source": []
  }
 ],
 "metadata": {
  "kernelspec": {
   "display_name": "Python 3",
   "language": "python",
   "name": "python3"
  },
  "language_info": {
   "codemirror_mode": {
    "name": "ipython",
    "version": 3
   },
   "file_extension": ".py",
   "mimetype": "text/x-python",
   "name": "python",
   "nbconvert_exporter": "python",
   "pygments_lexer": "ipython3",
   "version": "3.10.11"
  }
 },
 "nbformat": 4,
 "nbformat_minor": 2
}
